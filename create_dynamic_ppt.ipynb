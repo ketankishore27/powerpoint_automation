{
 "cells": [
  {
   "cell_type": "code",
   "execution_count": 1,
   "id": "c68e91a1-69b8-4317-89bf-d471c5cd35b2",
   "metadata": {},
   "outputs": [
    {
     "name": "stdout",
     "output_type": "stream",
     "text": [
      "Creating an output path\n"
     ]
    }
   ],
   "source": [
    "import win32com.client as win32\n",
    "import pandas as pd\n",
    "import os\n",
    "import calendar\n",
    "from datetime import datetime\n",
    "from dateutil.relativedelta import relativedelta\n",
    "from data.data_mockers import get_data_captiatalization\n",
    "import pandas as pd\n",
    "\n",
    "if not os.path.exists(os.path.join(os.getcwd(), \"output_path\")):\n",
    "    print(\"Creating an output path\")\n",
    "    os.makedirs(\"output_path\", exist_ok=True)"
   ]
  },
  {
   "cell_type": "code",
   "execution_count": 2,
   "id": "a1a3b0e3-a7cc-4836-92b6-c1574c0a24f8",
   "metadata": {},
   "outputs": [],
   "source": [
    "def create_ppt_with_template(template_path):#, output_path, df):\n",
    "    if not os.path.exists(template_path):\n",
    "        raise FileNotFoundError(f\"❌ Template not found at {template_path}\")\n",
    "\n",
    "    # Launch PowerPoint\n",
    "    ppt_app = win32.Dispatch(\"PowerPoint.Application\")\n",
    "    ppt_app.Visible = True\n",
    "\n",
    "    # Open the template as the base presentation\n",
    "    presentation_sample = ppt_app.Presentations.Open(template_path)\n",
    "    return presentation_sample"
   ]
  },
  {
   "cell_type": "code",
   "execution_count": 5,
   "id": "fb4306da-e674-4740-a528-9cc7b51864b5",
   "metadata": {},
   "outputs": [],
   "source": [
    "def create_current_captiatlization(presentation_sample):\n",
    "\n",
    "    output_folder = os.path.join(os.getcwd(), \"output_path\")\n",
    "    slide = presentation_sample.Slides.Add(presentation_sample.Slides.Count + 1, 1)\n",
    "    title_shape = slide.Shapes.Title\n",
    "    title_shape.TextFrame.TextRange.Text = \"Current Capitalization\"\n",
    "    title_shape.Left = 10    # distance from the left (in points)\n",
    "    title_shape.Top = 30     # distance from the top (in points)\n",
    "    title_shape.Width = 400  # optional: adjust width\n",
    "    title_shape.Height = 30  # optional: adjust height\n",
    "    \n",
    "    highlight_rows = {\"First Lien Debt\", \"Net First Lien Debt\", \"Total Debt\", \"Total Net Debt\"}\n",
    "    footer_row = \"LTM Run-Rate Adj. EBITDA\"\n",
    "    data = get_data_captiatalization()\n",
    "    \n",
    "    ## Getting number of rows and cols \n",
    "    rows = len(data)\n",
    "    cols = len(data[0])\n",
    "    \n",
    "    left = 20     # points\n",
    "    top = 70\n",
    "    width = 900\n",
    "    height = 300\n",
    "    table_shape = slide.Shapes.AddTable(rows, cols, left, top, width, height)\n",
    "    table = table_shape.Table\n",
    "\n",
    "    # Filling Data here\n",
    "    for i, row_data in enumerate(data):\n",
    "        for j, cell_text in enumerate(row_data):\n",
    "            cell = table.Cell(i + 1, j + 1)\n",
    "            cell.Shape.TextFrame.TextRange.Text = cell_text\n",
    "            cell.Shape.TextFrame.TextRange.Font.Size = 8\n",
    "            cell.Shape.TextFrame.TextRange.Font.Bold = True if i == 0 or row_data[0] in highlight_rows or row_data[0] == footer_row else False\n",
    "            cell.Shape.TextFrame.VerticalAnchor = 3  # center vertically\n",
    "            cell.Shape.TextFrame.TextRange.ParagraphFormat.Alignment = 2 if j != 0 else 1  # right or left align\n",
    "    \n",
    "        # Row shading\n",
    "        if row_data[0] in highlight_rows:\n",
    "            for j in range(cols):\n",
    "                table.Cell(i + 1, j + 1).Shape.Fill.ForeColor.RGB = 0xCCE5FF  # light blue\n",
    "        elif row_data[0] == footer_row:\n",
    "            for j in range(cols):\n",
    "                table.Cell(i + 1, j + 1).Shape.Fill.ForeColor.RGB = 0xD9CCE3  # light purple\n",
    "\n",
    "    presentation.SaveAs(os.path.join(output_folder, \"captiatlization_sheet.pptx\"))\n",
    "    return presentation"
   ]
  },
  {
   "cell_type": "code",
   "execution_count": 6,
   "id": "01b2fc6c-528e-4c60-aedf-0840e8f45c72",
   "metadata": {},
   "outputs": [],
   "source": [
    "presentation = create_ppt_with_template(template_path = r\"D:\\\\ppt_automate\\\\template_path\\\\MorganStanley-SampleTemplate.pptx\")\n",
    "presentation = create_current_captiatlization(presentation)"
   ]
  },
  {
   "cell_type": "code",
   "execution_count": 7,
   "id": "052321e2-70ae-4f8c-9dd0-605fd1a65fc2",
   "metadata": {},
   "outputs": [],
   "source": [
    "def get_calendar_lookup():\n",
    "    lookup_df = pd.read_excel(\"data/events_data.xlsx\")\n",
    "    lookup_df[\"Date\"] = lookup_df[\"Date\"].apply(lambda x: str(datetime.date(x)))\n",
    "    lookup_dict = {}\n",
    "    for date, event in lookup_df.values:\n",
    "        try:\n",
    "            lookup_dict[event].append(date)\n",
    "        except Exception as e:\n",
    "            lookup_dict[event] = []\n",
    "    return lookup_dict"
   ]
  },
  {
   "cell_type": "code",
   "execution_count": 8,
   "id": "8ab52149-c79d-401a-96a2-54bf96093497",
   "metadata": {},
   "outputs": [],
   "source": [
    "def check_for_events(sample_date, lookup_dictionary):\n",
    "    for key in lookup_dictionary.keys():\n",
    "        if sample_date in lookup_dictionary[key]:\n",
    "            return key\n",
    "    return None"
   ]
  },
  {
   "cell_type": "code",
   "execution_count": 14,
   "id": "7d042cb1-cf0c-4243-b56c-5f46f732463d",
   "metadata": {},
   "outputs": [],
   "source": [
    "# Start date\n",
    "def get_calendar_slide(presentation_sample, date_str = '2025-04-01'):\n",
    "\n",
    "    output_folder = os.path.join(os.getcwd(), \"output_path\")\n",
    "    start_date = datetime.strptime(date_str, '%Y-%m-%d')\n",
    "    \n",
    "    months = []\n",
    "    for i in range(6):\n",
    "        date = start_date + relativedelta(months=i)\n",
    "        months.append({\n",
    "            'month_name': date.strftime('%B'),     # e.g. 'April'\n",
    "            'month_number': date.strftime('%m'),   # e.g. '04'\n",
    "            'year': date.strftime('%Y')            # e.g. '2025'\n",
    "        })\n",
    "    \n",
    "    colors = {\n",
    "        \"execution\": (217, 217, 217),  # Light grey\n",
    "        \"cpi\": (255, 255, 224),         # Light yellow\n",
    "        \"ppi\": (237, 125, 49),         # Dark orange\n",
    "        \"hld\": (198, 224, 180)     # Light green\n",
    "    }\n",
    "    lookup_calendar = get_calendar_lookup()\n",
    "    # Initialize PowerPoint\n",
    "    ppt = win32.Dispatch(\"PowerPoint.Application\")\n",
    "    ppt.Visible = True\n",
    "    slide = presentation_sample.Slides.Add(presentation_sample.Slides.Count + 1, 12)\n",
    "    \n",
    "    # Title\n",
    "    title_box = slide.Shapes.AddTextbox(1, 20, 10, 700, 50)\n",
    "    title_box.TextFrame.TextRange.Text = \"*EXAMPLE* - Overview of Execution Windows\"\n",
    "    title_box.TextFrame.TextRange.Font.Size = 24\n",
    "    \n",
    "    # Grid layout parameters\n",
    "    cal_per_row = 3\n",
    "    calendar_width = 200\n",
    "    calendar_height = 160\n",
    "    cell_spacing = 1\n",
    "    cell_w = (calendar_width - (6 * cell_spacing)) / 7  # 7 columns\n",
    "    cell_h = (calendar_height - 25 - (5 * cell_spacing)) / 6  # 6 rows\n",
    "    \n",
    "    margin_left = 50\n",
    "    margin_top = 70\n",
    "    h_spacing = 60\n",
    "    v_spacing = 50  # 🔻 Reduced from 70 to make rows closer\n",
    "    \n",
    "    # RGB converter\n",
    "    def rgb(r, g, b):\n",
    "        return r + (g << 8) + (b << 16)\n",
    "    \n",
    "    # Create calendars\n",
    "    for i, month in enumerate(months):\n",
    "        month_idx = list(calendar.month_name).index(month['month_name'])\n",
    "        month_matrix = calendar.monthcalendar(int(month['year']), month_idx)\n",
    "    \n",
    "        row = i // cal_per_row\n",
    "        col = i % cal_per_row\n",
    "    \n",
    "        left = margin_left + col * (calendar_width + h_spacing)\n",
    "        top = margin_top + row * (calendar_height + v_spacing)\n",
    "    \n",
    "        # Month Title\n",
    "        title = slide.Shapes.AddTextbox(1, left, top, calendar_width, 20)\n",
    "        title.TextFrame.TextRange.Text = f\"{month['month_name']} {month['year']}\"\n",
    "        title.TextFrame.TextRange.Font.Size = 14\n",
    "        title.TextFrame.TextRange.Font.Bold = True\n",
    "    \n",
    "        # Day cells\n",
    "        for week_idx, week in enumerate(month_matrix):\n",
    "            for day_idx, day in enumerate(week):\n",
    "                if day == 0:\n",
    "                    continue\n",
    "                    \n",
    "                key = None\n",
    "                shape = slide.Shapes.AddTextbox(\n",
    "                    1,\n",
    "                    left + day_idx * (cell_w + cell_spacing),\n",
    "                    top + 25 + week_idx * (cell_h + cell_spacing),\n",
    "                    cell_w,\n",
    "                    cell_h\n",
    "                )\n",
    "                \n",
    "                date_looped = str(datetime.date(datetime.strptime(month['year'] + '-' + month['month_number'] + '-' + str(day), '%Y-%m-%d')))\n",
    "                key = check_for_events(sample_date=date_looped, lookup_dictionary=get_calendar_lookup())\n",
    "                if key:\n",
    "                    shape.TextFrame.TextRange.Text = str(day) + f\"\\n{key}\"\n",
    "                    shape.Fill.ForeColor.RGB = rgb(*colors[key.lower()])\n",
    "                    shape.TextFrame.TextRange.Font.Bold = True\n",
    "                else:\n",
    "                    shape.TextFrame.TextRange.Text = str(day) + f\"\\n \"\n",
    "                    shape.Fill.ForeColor.RGB = rgb(*colors[\"execution\"])\n",
    "                    \n",
    "                shape.TextFrame.TextRange.Font.Size = 6\n",
    "    \n",
    "                # Bottom-right align\n",
    "                shape.TextFrame.TextRange.ParagraphFormat.Alignment = 3  # Right\n",
    "                shape.TextFrame.VerticalAnchor = 3  # Bottom\n",
    "    \n",
    "                # Fill with Execution Window color\n",
    "                shape.Line.Visible = False\n",
    "    \n",
    "    # Add legend boxes\n",
    "    legend_items = [\n",
    "        (\"CPI\", colors[\"cpi\"]),\n",
    "        (\"PPI\", colors[\"ppi\"]),\n",
    "        (\"Holiday\", colors[\"hld\"]),\n",
    "    ]\n",
    "    \n",
    "    legend_top = margin_top + 2 * (calendar_height + v_spacing) + 10\n",
    "    legend_left = margin_left\n",
    "    \n",
    "    for i, (label, color_rgb) in enumerate(legend_items):\n",
    "        box = slide.Shapes.AddShape(1, legend_left + i * 180, legend_top, 20, 20)\n",
    "        box.Fill.ForeColor.RGB = rgb(*color_rgb)\n",
    "        box.Line.Visible = False\n",
    "    \n",
    "        label_box = slide.Shapes.AddTextbox(1, legend_left + i * 180 + 25, legend_top, 150, 20)\n",
    "        label_box.TextFrame.TextRange.Text = label\n",
    "        label_box.TextFrame.TextRange.Font.Size = 12\n",
    "\n",
    "    \n",
    "    presentation.SaveAs(os.path.join(output_folder, \"calendar_sheet.pptx\"))\n",
    "    print(\"✅ Calendar Slides Done.\")"
   ]
  },
  {
   "cell_type": "code",
   "execution_count": 15,
   "id": "e7e8cd2c-8663-4c0e-b84f-5fe3e2eb5990",
   "metadata": {},
   "outputs": [
    {
     "name": "stdout",
     "output_type": "stream",
     "text": [
      "✅ Calendar Slides Done.\n"
     ]
    }
   ],
   "source": [
    "presentation = create_ppt_with_template(template_path = r\"D:\\\\ppt_automate\\\\template_path\\\\MorganStanley-SampleTemplate.pptx\")\n",
    "presentation = get_calendar_slide(presentation, date_str = '2025-05-01')"
   ]
  },
  {
   "cell_type": "code",
   "execution_count": 38,
   "id": "f1ecb0bf-7f93-4dcf-a031-fc4e8c1d79b7",
   "metadata": {},
   "outputs": [
    {
     "ename": "AttributeError",
     "evalue": "Property 'Crop.ShapeType' can not be set.",
     "output_type": "error",
     "traceback": [
      "\u001b[1;31m---------------------------------------------------------------------------\u001b[0m",
      "\u001b[1;31mAttributeError\u001b[0m                            Traceback (most recent call last)",
      "Cell \u001b[1;32mIn[38], line 81\u001b[0m\n\u001b[0;32m     72\u001b[0m img_box \u001b[38;5;241m=\u001b[39m slide\u001b[38;5;241m.\u001b[39mShapes\u001b[38;5;241m.\u001b[39mAddShape(\u001b[38;5;241m9\u001b[39m, left, top, \u001b[38;5;241m80\u001b[39m, \u001b[38;5;241m80\u001b[39m)\n\u001b[0;32m     73\u001b[0m image_shape \u001b[38;5;241m=\u001b[39m slide\u001b[38;5;241m.\u001b[39mShapes\u001b[38;5;241m.\u001b[39mAddPicture(FileName\u001b[38;5;241m=\u001b[39mos\u001b[38;5;241m.\u001b[39mpath\u001b[38;5;241m.\u001b[39mjoin(os\u001b[38;5;241m.\u001b[39mgetcwd(), \u001b[38;5;124mr\u001b[39m\u001b[38;5;124m\"\u001b[39m\u001b[38;5;124mdata\u001b[39m\u001b[38;5;124m\\\u001b[39m\u001b[38;5;124mmickey.png\u001b[39m\u001b[38;5;124m\"\u001b[39m),\n\u001b[0;32m     74\u001b[0m     LinkToFile\u001b[38;5;241m=\u001b[39m\u001b[38;5;28;01mFalse\u001b[39;00m,\n\u001b[0;32m     75\u001b[0m     SaveWithDocument\u001b[38;5;241m=\u001b[39m\u001b[38;5;28;01mTrue\u001b[39;00m,\n\u001b[1;32m   (...)\u001b[0m\n\u001b[0;32m     79\u001b[0m     Height\u001b[38;5;241m=\u001b[39mbox_height\n\u001b[0;32m     80\u001b[0m )\n\u001b[1;32m---> 81\u001b[0m image_shape\u001b[38;5;241m.\u001b[39mPictureFormat\u001b[38;5;241m.\u001b[39mCrop\u001b[38;5;241m.\u001b[39mShapeType \u001b[38;5;241m=\u001b[39m \u001b[38;5;241m9\u001b[39m\n\u001b[0;32m     82\u001b[0m img_box\u001b[38;5;241m.\u001b[39mFill\u001b[38;5;241m.\u001b[39mBackColor\u001b[38;5;241m.\u001b[39mRGB \u001b[38;5;241m=\u001b[39m \u001b[38;5;241m0xDDDDDD\u001b[39m\n\u001b[0;32m     83\u001b[0m img_box\u001b[38;5;241m.\u001b[39mTextFrame\u001b[38;5;241m.\u001b[39mTextRange\u001b[38;5;241m.\u001b[39mText \u001b[38;5;241m=\u001b[39m \u001b[38;5;124m\"\u001b[39m\u001b[38;5;124m(Image)\u001b[39m\u001b[38;5;124m\"\u001b[39m\n",
      "File \u001b[1;32m~\\anaconda3\\Lib\\site-packages\\win32com\\client\\dynamic.py:707\u001b[0m, in \u001b[0;36mCDispatch.__setattr__\u001b[1;34m(self, attr, value)\u001b[0m\n\u001b[0;32m    705\u001b[0m         \u001b[38;5;28;01mexcept\u001b[39;00m pythoncom\u001b[38;5;241m.\u001b[39mcom_error:\n\u001b[0;32m    706\u001b[0m             \u001b[38;5;28;01mpass\u001b[39;00m\n\u001b[1;32m--> 707\u001b[0m \u001b[38;5;28;01mraise\u001b[39;00m \u001b[38;5;167;01mAttributeError\u001b[39;00m(\n\u001b[0;32m    708\u001b[0m     \u001b[38;5;124m\"\u001b[39m\u001b[38;5;124mProperty \u001b[39m\u001b[38;5;124m'\u001b[39m\u001b[38;5;132;01m%s\u001b[39;00m\u001b[38;5;124m.\u001b[39m\u001b[38;5;132;01m%s\u001b[39;00m\u001b[38;5;124m'\u001b[39m\u001b[38;5;124m can not be set.\u001b[39m\u001b[38;5;124m\"\u001b[39m \u001b[38;5;241m%\u001b[39m (\u001b[38;5;28mself\u001b[39m\u001b[38;5;241m.\u001b[39m_username_, attr)\n\u001b[0;32m    709\u001b[0m )\n",
      "\u001b[1;31mAttributeError\u001b[0m: Property 'Crop.ShapeType' can not be set."
     ]
    }
   ],
   "source": [
    "import win32com.client as win32\n",
    "import os\n",
    "\n",
    "# Launch PowerPoint\n",
    "ppt_app = win32.Dispatch(\"PowerPoint.Application\")\n",
    "ppt_app.Visible = True\n",
    "\n",
    "# Add a new presentation\n",
    "presentation = ppt_app.Presentations.Add()\n",
    "\n",
    "# Add a slide\n",
    "slide = presentation.Slides.Add(1, 12)  # 12 = ppLayoutBlank\n",
    "\n",
    "# Add main title\n",
    "title_box = slide.Shapes.AddTextbox(1, 20, 10, 800, 50)  # (Orientation, Left, Top, Width, Height)\n",
    "title_box.TextFrame.TextRange.Text = \"The Morgan Stanley Team for Mars\"\n",
    "title_box.TextFrame.TextRange.Font.Size = 28\n",
    "title_box.TextFrame.TextRange.Font.Bold = True\n",
    "\n",
    "# Sample data structure\n",
    "team_data = [\n",
    "    {\n",
    "        \"name\": \"Anish Shah\",\n",
    "        \"title\": \"Managing Director\\nGlobal Head of Debt Capital Markets\",\n",
    "        \"phone\": \"+1 212-761-XXXX\",\n",
    "        \"email\": \"anish.shah@morganstanley.com\",\n",
    "        \"category\": \"Consumer Retail Investment Banking\"\n",
    "    },\n",
    "    {\n",
    "        \"name\": \"Paul Tucker\",\n",
    "        \"title\": \"Managing Director\",\n",
    "        \"phone\": \"+1 212-761-YYYY\",\n",
    "        \"email\": \"paul.tucker@morganstanley.com\",\n",
    "        \"category\": \"Consumer Retail Investment Banking\"\n",
    "    },\n",
    "    # Add more people as needed\n",
    "]\n",
    "\n",
    "# Define colors for categories\n",
    "category_colors = {\n",
    "    \"Consumer Retail Investment Banking\": (0, 176, 240),  # Blue\n",
    "    \"M&A\": (0, 176, 80),  # Green\n",
    "    \"Acquisition Finance\": (91, 155, 213),  # Light blue\n",
    "}\n",
    "\n",
    "# Positioning\n",
    "start_left = 40\n",
    "start_top = 100\n",
    "box_width = 130\n",
    "box_height = 170\n",
    "gap_x = 20\n",
    "gap_y = 40\n",
    "items_per_row = 6\n",
    "\n",
    "# Draw team members\n",
    "for idx, person in enumerate(team_data):\n",
    "    col = idx % items_per_row\n",
    "    row = idx // items_per_row\n",
    "    left = start_left + col * (box_width + gap_x)\n",
    "    top = start_top + row * (box_height + gap_y)\n",
    "\n",
    "    # Draw category header (once per row or category block)\n",
    "    if col == 0 and person['category'] in category_colors:\n",
    "        color = category_colors[person['category']]\n",
    "        header = slide.Shapes.AddShape(1, left, top - 25, 700, 20)\n",
    "        header.Fill.ForeColor.RGB = color[0] + (color[1] << 8) + (color[2] << 16)\n",
    "        header.TextFrame.TextRange.Text = person['category']\n",
    "        header.TextFrame.TextRange.Font.Color.RGB = 0xFFFFFF\n",
    "        header.TextFrame.HorizontalAnchor = 2  # center\n",
    "\n",
    "    # Add image placeholder (optional)\n",
    "    img_box = slide.Shapes.AddShape(9, left, top, 80, 80)\n",
    "    image_shape = slide.Shapes.AddPicture(FileName=os.path.join(os.getcwd(), r\"data\\mickey.png\"),\n",
    "        LinkToFile=False,\n",
    "        SaveWithDocument=True,\n",
    "        Left=start_left,\n",
    "        Top=start_top,\n",
    "        Width=box_width,\n",
    "        Height=box_height\n",
    "    )\n",
    "    image_shape.PictureFormat.Crop.ShapeType = 9\n",
    "    img_box.Fill.BackColor.RGB = 0xDDDDDD\n",
    "    img_box.TextFrame.TextRange.Text = \"(Image)\"\n",
    "\n",
    "    # Add text below image\n",
    "    text = f\"{person['name']}\\n{person['title']}\\n{person['phone']}\\n{person['email']}\"\n",
    "    info_box = slide.Shapes.AddTextbox(1, left, top + 85, box_width, 80)\n",
    "    info_box.TextFrame.TextRange.Text = text\n",
    "    info_box.TextFrame.TextRange.Font.Size = 8\n",
    "    info_box.TextFrame.TextRange.ParagraphFormat.SpaceAfter = 4\n"
   ]
  },
  {
   "cell_type": "code",
   "execution_count": 32,
   "id": "72574ba4-8912-4bd1-9cc0-956f043493e2",
   "metadata": {
    "scrolled": true
   },
   "outputs": [
    {
     "ename": "com_error",
     "evalue": "(-2147352561, 'Parameter not optional.', None, None)",
     "output_type": "error",
     "traceback": [
      "\u001b[1;31m---------------------------------------------------------------------------\u001b[0m",
      "\u001b[1;31mcom_error\u001b[0m                                 Traceback (most recent call last)",
      "Cell \u001b[1;32mIn[32], line 1\u001b[0m\n\u001b[1;32m----> 1\u001b[0m slide\u001b[38;5;241m.\u001b[39mShapes\u001b[38;5;241m.\u001b[39mAddTextbox()\n",
      "File \u001b[1;32m~\\anaconda3\\Lib\\site-packages\\win32com\\gen_py\\91493440-5A91-11CF-8700-00AA0060263Bx0x2x12\\Shapes.py:253\u001b[0m, in \u001b[0;36mShapes.AddTextbox\u001b[1;34m(self, Orientation, Left, Top, Width, Height)\u001b[0m\n\u001b[0;32m    251\u001b[0m \u001b[38;5;28;01mdef\u001b[39;00m \u001b[38;5;21mAddTextbox\u001b[39m(\u001b[38;5;28mself\u001b[39m, Orientation\u001b[38;5;241m=\u001b[39mdefaultNamedNotOptArg, Left\u001b[38;5;241m=\u001b[39mdefaultNamedNotOptArg, Top\u001b[38;5;241m=\u001b[39mdefaultNamedNotOptArg, Width\u001b[38;5;241m=\u001b[39mdefaultNamedNotOptArg\n\u001b[0;32m    252\u001b[0m \t\t, Height\u001b[38;5;241m=\u001b[39mdefaultNamedNotOptArg):\n\u001b[1;32m--> 253\u001b[0m \tret \u001b[38;5;241m=\u001b[39m \u001b[38;5;28mself\u001b[39m\u001b[38;5;241m.\u001b[39m_oleobj_\u001b[38;5;241m.\u001b[39mInvokeTypes(\u001b[38;5;241m19\u001b[39m, LCID, \u001b[38;5;241m1\u001b[39m, (\u001b[38;5;241m9\u001b[39m, \u001b[38;5;241m0\u001b[39m), ((\u001b[38;5;241m3\u001b[39m, \u001b[38;5;241m1\u001b[39m), (\u001b[38;5;241m4\u001b[39m, \u001b[38;5;241m1\u001b[39m), (\u001b[38;5;241m4\u001b[39m, \u001b[38;5;241m1\u001b[39m), (\u001b[38;5;241m4\u001b[39m, \u001b[38;5;241m1\u001b[39m), (\u001b[38;5;241m4\u001b[39m, \u001b[38;5;241m1\u001b[39m)),Orientation\n\u001b[0;32m    254\u001b[0m \t\t, Left, Top, Width, Height)\n\u001b[0;32m    255\u001b[0m \t\u001b[38;5;28;01mif\u001b[39;00m ret \u001b[38;5;129;01mis\u001b[39;00m \u001b[38;5;129;01mnot\u001b[39;00m \u001b[38;5;28;01mNone\u001b[39;00m:\n\u001b[0;32m    256\u001b[0m \t\tret \u001b[38;5;241m=\u001b[39m Dispatch(ret, \u001b[38;5;124m'\u001b[39m\u001b[38;5;124mAddTextbox\u001b[39m\u001b[38;5;124m'\u001b[39m, \u001b[38;5;124m'\u001b[39m\u001b[38;5;124m{\u001b[39m\u001b[38;5;124m91493479-5A91-11CF-8700-00AA0060263B}\u001b[39m\u001b[38;5;124m'\u001b[39m)\n",
      "\u001b[1;31mcom_error\u001b[0m: (-2147352561, 'Parameter not optional.', None, None)"
     ]
    }
   ],
   "source": [
    "slide.Shapes.AddTextbox()"
   ]
  },
  {
   "cell_type": "code",
   "execution_count": 42,
   "id": "5bb94898-4425-4453-8102-302ae6f88d2c",
   "metadata": {},
   "outputs": [
    {
     "data": {
      "text/plain": [
       "35.0"
      ]
     },
     "execution_count": 42,
     "metadata": {},
     "output_type": "execute_result"
    }
   ],
   "source": [
    "month_height / 6"
   ]
  },
  {
   "cell_type": "code",
   "execution_count": null,
   "id": "f97af8f7-c952-4563-b92c-e2bdddfda6c7",
   "metadata": {},
   "outputs": [],
   "source": []
  },
  {
   "cell_type": "code",
   "execution_count": null,
   "id": "2b87bdb7-7c92-40ac-bc72-24742d5005dc",
   "metadata": {},
   "outputs": [],
   "source": [
    "def create_calendar(presentation_sample):\n",
    "    # Add main title\n",
    "    slide = presentation.Slides.Add(presentation.Slides.Count + 1, 12)\n",
    "    title = slide.Shapes.AddTextbox(1, 20, 10, 900, 40)\n",
    "    title.TextFrame.TextRange.Text = \"*EXAMPLE* - IPO Timeline\\n\"\n",
    "    title.TextFrame.TextRange.Font.Size = 24\n",
    "    title.TextFrame.TextRange.Font.Bold = True\n",
    "\n",
    "    ## Add sub Title\n",
    "    title = slide.Shapes.AddTextbox(1, 20, 40, 900, 40)\n",
    "    title.TextFrame.TextRange.Text = \" Q2'26 IPO\"\n",
    "    title.TextFrame.TextRange.Font.Size = 24\n",
    "    title.TextFrame.TextRange.Font.Bold = True\n",
    "    title.TextFrame.TextRange.Font.Color.RGB = 0xE16941\n",
    "\n",
    "    return presentation_sample"
   ]
  },
  {
   "cell_type": "code",
   "execution_count": 10,
   "id": "75d1b8cb-9023-4a38-994a-23c9a13ff11c",
   "metadata": {},
   "outputs": [],
   "source": [
    "# Add main title\n",
    "slide = presentation.Slides.Add(presentation.Slides.Count + 1, 12)\n",
    "title = slide.Shapes.AddTextbox(1, 20, 10, 900, 40)\n",
    "title.TextFrame.TextRange.Text = \"*EXAMPLE* - IPO Timeline\\n\"\n",
    "title.TextFrame.TextRange.Font.Size = 24\n",
    "title.TextFrame.TextRange.Font.Bold = True"
   ]
  },
  {
   "cell_type": "code",
   "execution_count": 12,
   "id": "d07bf510-b360-4ac0-9ff1-e157823f05e2",
   "metadata": {},
   "outputs": [],
   "source": [
    "title = slide.Shapes.AddTextbox(1, 20, 40, 900, 40)\n",
    "title.TextFrame.TextRange.Text = \" Q2'26 IPO\"\n",
    "title.TextFrame.TextRange.Font.Size = 24\n",
    "title.TextFrame.TextRange.Font.Bold = True\n",
    "title.TextFrame.TextRange.Font.Color.RGB = 0xE16941"
   ]
  },
  {
   "cell_type": "code",
   "execution_count": 14,
   "id": "ecf2b65c-c6ad-4fb5-aa86-992968478e11",
   "metadata": {},
   "outputs": [],
   "source": [
    "start_date, end_date = '2025-06-01', '2026-05-01'\n",
    "months = [\n",
    "    (2025, 6), (2025, 7), (2025, 8), (2025, 9),\n",
    "    (2025, 10), (2025, 11), (2025, 12), (2026, 1),\n",
    "    (2026, 2), (2026, 3), (2026, 4), (2026, 5)\n",
    "]"
   ]
  },
  {
   "cell_type": "code",
   "execution_count": null,
   "id": "366f95c4-ee30-4c9d-a52c-32dc2cc7944f",
   "metadata": {},
   "outputs": [],
   "source": []
  },
  {
   "cell_type": "code",
   "execution_count": null,
   "id": "d0e6b536-07fc-4ab0-ac94-8da88336976b",
   "metadata": {},
   "outputs": [],
   "source": []
  },
  {
   "cell_type": "code",
   "execution_count": 54,
   "id": "ff635752-19a5-4c24-8884-e3d92b7c4fea",
   "metadata": {},
   "outputs": [],
   "source": [
    "slide = presentation.Slides.Add(presentation.Slides.Count + 1, 1)\n",
    "title_shape = slide.Shapes.Title\n",
    "title_shape.TextFrame.TextRange.Text = \"Current Capitalization\"\n",
    "title_shape.Left = 10    # distance from the left (in points)\n",
    "title_shape.Top = 30     # distance from the top (in points)\n",
    "title_shape.Width = 400  # optional: adjust width\n",
    "title_shape.Height = 30  # optional: adjust height"
   ]
  },
  {
   "cell_type": "code",
   "execution_count": 55,
   "id": "f804eaa6-a819-4e32-9a2e-e9681b979b1b",
   "metadata": {},
   "outputs": [],
   "source": [
    "highlight_rows = {\"First Lien Debt\", \"Net First Lien Debt\", \"Total Debt\", \"Total Net Debt\"}\n",
    "footer_row = \"LTM Run-Rate Adj. EBITDA\"\n",
    "data = get_data_captiatalization()\n",
    "\n",
    "## Getting number of rows and cols \n",
    "rows = len(data)\n",
    "cols = len(data[0])\n",
    "\n",
    "left = 20     # points\n",
    "top = 70\n",
    "width = 900\n",
    "height = 300\n",
    "table_shape = slide.Shapes.AddTable(rows, cols, left, top, width, height)\n",
    "table = table_shape.Table"
   ]
  },
  {
   "cell_type": "code",
   "execution_count": 56,
   "id": "a93c458b-3e45-4c74-ab98-86598b3cb90b",
   "metadata": {},
   "outputs": [],
   "source": [
    "for i, row_data in enumerate(data):\n",
    "    for j, cell_text in enumerate(row_data):\n",
    "        cell = table.Cell(i + 1, j + 1)\n",
    "        cell.Shape.TextFrame.TextRange.Text = cell_text\n",
    "        cell.Shape.TextFrame.TextRange.Font.Size = 8\n",
    "        cell.Shape.TextFrame.TextRange.Font.Bold = True if i == 0 or row_data[0] in highlight_rows or row_data[0] == footer_row else False\n",
    "        cell.Shape.TextFrame.VerticalAnchor = 3  # center vertically\n",
    "        cell.Shape.TextFrame.TextRange.ParagraphFormat.Alignment = 2 if j != 0 else 1  # right or left align\n",
    "\n",
    "    # Row shading\n",
    "    if row_data[0] in highlight_rows:\n",
    "        for j in range(cols):\n",
    "            table.Cell(i + 1, j + 1).Shape.Fill.ForeColor.RGB = 0xCCE5FF  # light blue\n",
    "    elif row_data[0] == footer_row:\n",
    "        for j in range(cols):\n",
    "            table.Cell(i + 1, j + 1).Shape.Fill.ForeColor.RGB = 0xD9CCE3  # light purple"
   ]
  },
  {
   "cell_type": "code",
   "execution_count": null,
   "id": "87d05130-8594-4b67-b1d1-f1fc73c7baaa",
   "metadata": {},
   "outputs": [],
   "source": []
  },
  {
   "cell_type": "code",
   "execution_count": 35,
   "id": "aeff1c64-46c1-46cc-a414-be59a8aac3e8",
   "metadata": {
    "scrolled": true
   },
   "outputs": [],
   "source": [
    "rows = len(data)\n",
    "cols = len(data[0])"
   ]
  },
  {
   "cell_type": "code",
   "execution_count": 37,
   "id": "8043510b-f542-459c-b494-700499d2fa9e",
   "metadata": {},
   "outputs": [
    {
     "data": {
      "text/plain": [
       "(14, 13)"
      ]
     },
     "execution_count": 37,
     "metadata": {},
     "output_type": "execute_result"
    }
   ],
   "source": [
    "rows, cols"
   ]
  },
  {
   "cell_type": "code",
   "execution_count": 38,
   "id": "2ff9097c-0900-40c8-a8d2-8429dd368a07",
   "metadata": {},
   "outputs": [],
   "source": [
    "left = 50     # points\n",
    "top = 100\n",
    "width = 900\n",
    "height = 300\n",
    "table_shape = slide.Shapes.AddTable(rows, cols, left, top, width, height)\n",
    "table = table_shape.Table"
   ]
  },
  {
   "cell_type": "code",
   "execution_count": null,
   "id": "aed4e46f-66a5-4833-9b15-47f469d8c4a0",
   "metadata": {},
   "outputs": [],
   "source": []
  },
  {
   "cell_type": "code",
   "execution_count": null,
   "id": "ae06bd9b-ac99-42e8-95f8-09cfb8587d11",
   "metadata": {},
   "outputs": [],
   "source": []
  },
  {
   "cell_type": "code",
   "execution_count": null,
   "id": "e79f7ec1-cefe-4438-856f-7c1ee30b1a8e",
   "metadata": {},
   "outputs": [],
   "source": []
  },
  {
   "cell_type": "code",
   "execution_count": null,
   "id": "2c96fc5b-11fe-4fdc-9df3-9f12bf1520e9",
   "metadata": {},
   "outputs": [],
   "source": []
  },
  {
   "cell_type": "code",
   "execution_count": null,
   "id": "ed3dcb0b-4a92-4964-810e-0696a6c98889",
   "metadata": {},
   "outputs": [],
   "source": []
  },
  {
   "cell_type": "code",
   "execution_count": null,
   "id": "6d2ec721-fd01-4896-8018-6b1c3aafa381",
   "metadata": {},
   "outputs": [],
   "source": []
  },
  {
   "cell_type": "code",
   "execution_count": null,
   "id": "a95e51b6-65a7-4f0b-ba28-bd200ddba931",
   "metadata": {},
   "outputs": [],
   "source": [
    "import win32com.client as win32\n",
    "import pythoncom\n",
    "\n",
    "# Start PowerPoint\n",
    "pythoncom.CoInitialize()\n",
    "ppt_app = win32.Dispatch(\"PowerPoint.Application\")\n",
    "ppt_app.Visible = True\n",
    "presentation = ppt_app.Presentations.Add()\n",
    "\n",
    "# Add slide\n",
    "slide = presentation.Slides.Add(1, 1)  # 1 = ppLayoutText\n",
    "slide.Shapes.Title.TextFrame.TextRange.Text = \"Current Capitalization\"\n",
    "\n",
    "# Table data (13 rows + header, 13 columns)\n",
    "data = [\n",
    "    [\"$MM\", \"Amount\", \"xEBITDA\", \"Maturity\", \"Rating\", \"Floor\", \"Pricing\", \"Call Price\", \"Next Call Date\", \"Next Call Price\", \"Price\", \"Yield\", \"YTW Date\"],\n",
    "    [\"Cash and Cash Equivalents\", \"118\", \"\", \"\", \"\", \"\", \"\", \"\", \"\", \"\", \"\", \"\", \"\"],\n",
    "    [\"$750MM Revolver\", \"-\", \"\", \"Jun-28\", \"B1 / B\", \"0.00%\", \"S + 300\", \"\", \"\", \"100.000\", \"100.250\", \"6.74%\", \"-\"],\n",
    "    [\"C$140MM Revolver\", \"-\", \"\", \"Jun-28\", \"B1 / B\", \"0.00%\", \"CDOR + 300\", \"\", \"\", \"\", \"\", \"\", \"\"],\n",
    "    [\"Term Loan B\", \"5,572\", \"\", \"Jun-30\", \"B1 / B\", \"0.75%\", \"S + 250\", \"101.000\", \"Jul-25\", \"100.000\", \"100.250\", \"6.74%\", \"-\"],\n",
    "    [\"Senior Secured Notes\", \"3,275\", \"\", \"Jun-30\", \"B1 / B\", \"-\", \"7.250%\", \"\", \"Jun-26\", \"103.625\", \"103.000\", \"6.24%\", \"Jun-28\"],\n",
    "    [\"First Lien Debt\", \"8,847\", \"5.1x\", \"\", \"\", \"\", \"\", \"\", \"\", \"\", \"\", \"\", \"\"],\n",
    "    [\"Net First Lien Debt\", \"8,729\", \"5.1x\", \"\", \"\", \"\", \"\", \"\", \"\", \"\", \"\", \"\", \"\"],\n",
    "    [\"Senior Unsecured Notes\", \"550\", \"\", \"Dec-29\", \"Caa1 / B-\", \"-\", \"5.625%\", \"102.813\", \"Dec-25\", \"101.406\", \"97.500\", \"6.23%\", \"Dec-29\"],\n",
    "    [\"Senior Unsecured Notes\", \"1,900\", \"\", \"Jan-32\", \"Caa1 / B-\", \"-\", \"7.375%\", \"\", \"Jan-27\", \"103.688\", \"102.750\", \"6.58%\", \"Jan-29\"],\n",
    "    [\"Other Debt\", \"3\", \"\", \"\", \"\", \"\", \"\", \"\", \"\", \"\", \"\", \"\", \"\"],\n",
    "    [\"Total Debt\", \"11,300\", \"6.6x\", \"\", \"\", \"\", \"\", \"\", \"\", \"\", \"\", \"\", \"\"],\n",
    "    [\"Total Net Debt\", \"11,182\", \"6.5x\", \"\", \"\", \"\", \"\", \"\", \"\", \"\", \"\", \"\", \"\"],\n",
    "    [\"LTM Run-Rate Adj. EBITDA\", \"1,721\", \"\", \"\", \"\", \"\", \"\", \"\", \"\", \"\", \"\", \"\", \"\"]\n",
    "]\n",
    "\n",
    "highlight_rows = {\"First Lien Debt\", \"Net First Lien Debt\", \"Total Debt\", \"Total Net Debt\"}\n",
    "footer_row = \"LTM Run-Rate Adj. EBITDA\"\n",
    "\n",
    "rows = len(data)\n",
    "cols = len(data[0])\n",
    "\n",
    "# Add table\n",
    "left = 50     # points\n",
    "top = 100\n",
    "width = 900\n",
    "height = 300\n",
    "table_shape = slide.Shapes.AddTable(rows, cols, left, top, width, height)\n",
    "table = table_shape.Table\n",
    "\n",
    "# Fill table\n",
    "for i, row_data in enumerate(data):\n",
    "    for j, cell_text in enumerate(row_data):\n",
    "        cell = table.Cell(i + 1, j + 1)\n",
    "        cell.Shape.TextFrame.TextRange.Text = cell_text\n",
    "        cell.Shape.TextFrame.TextRange.Font.Size = 10\n",
    "        cell.Shape.TextFrame.TextRange.Font.Bold = True if i == 0 or row_data[0] in highlight_rows or row_data[0] == footer_row else False\n",
    "        cell.Shape.TextFrame.VerticalAnchor = 3  # center vertically\n",
    "        cell.Shape.TextFrame.TextRange.ParagraphFormat.Alignment = 2 if j != 0 else 1  # right or left align\n",
    "\n",
    "    # Row shading\n",
    "    if row_data[0] in highlight_rows:\n",
    "        for j in range(cols):\n",
    "            table.Cell(i + 1, j + 1).Shape.Fill.ForeColor.RGB = 0xCCE5FF  # light blue\n",
    "    elif row_data[0] == footer_row:\n",
    "        for j in range(cols):\n",
    "            table.Cell(i + 1, j + 1).Shape.Fill.ForeColor.RGB = 0xD9CCE3  # light purple\n",
    "\n",
    "print(\"✅ Slide generated successfully.\")"
   ]
  },
  {
   "cell_type": "code",
   "execution_count": 22,
   "id": "737df46a-7c74-4df7-ab4c-d0e2868c6998",
   "metadata": {},
   "outputs": [
    {
     "ename": "com_error",
     "evalue": "(-2147352567, 'Exception occurred.', (0, None, None, None, 0, -2147467259), None)",
     "output_type": "error",
     "traceback": [
      "\u001b[1;31m---------------------------------------------------------------------------\u001b[0m",
      "\u001b[1;31mcom_error\u001b[0m                                 Traceback (most recent call last)",
      "Cell \u001b[1;32mIn[22], line 2\u001b[0m\n\u001b[0;32m      1\u001b[0m df \u001b[38;5;241m=\u001b[39m get_data()\n\u001b[1;32m----> 2\u001b[0m create_ppt_with_template(template_path \u001b[38;5;241m=\u001b[39m \u001b[38;5;124mr\u001b[39m\u001b[38;5;124m\"\u001b[39m\u001b[38;5;124mD:\u001b[39m\u001b[38;5;130;01m\\\\\u001b[39;00m\u001b[38;5;124mppt_automate\u001b[39m\u001b[38;5;130;01m\\\\\u001b[39;00m\u001b[38;5;124mtemplate_path\u001b[39m\u001b[38;5;130;01m\\\\\u001b[39;00m\u001b[38;5;124mMorganStanley-SampleTemplate.pptx\u001b[39m\u001b[38;5;124m\"\u001b[39m,\n\u001b[0;32m      3\u001b[0m                          output_path\u001b[38;5;241m=\u001b[39m\u001b[38;5;124m\"\u001b[39m\u001b[38;5;124moutput_path/\u001b[39m\u001b[38;5;124m\"\u001b[39m, df\u001b[38;5;241m=\u001b[39mdf)\n",
      "Cell \u001b[1;32mIn[12], line 43\u001b[0m, in \u001b[0;36mcreate_ppt_with_template\u001b[1;34m(template_path, output_path, df)\u001b[0m\n\u001b[0;32m     41\u001b[0m num_rows \u001b[38;5;241m=\u001b[39m \u001b[38;5;28mlen\u001b[39m(df) \u001b[38;5;241m+\u001b[39m \u001b[38;5;241m1\u001b[39m\n\u001b[0;32m     42\u001b[0m data_range \u001b[38;5;241m=\u001b[39m ws\u001b[38;5;241m.\u001b[39mRange(\u001b[38;5;124mf\u001b[39m\u001b[38;5;124m\"\u001b[39m\u001b[38;5;124mA1:B\u001b[39m\u001b[38;5;132;01m{\u001b[39;00mnum_rows\u001b[38;5;132;01m}\u001b[39;00m\u001b[38;5;124m\"\u001b[39m)\n\u001b[1;32m---> 43\u001b[0m chart\u001b[38;5;241m.\u001b[39mSetSourceData(Source\u001b[38;5;241m=\u001b[39mdata_range)\n\u001b[0;32m     45\u001b[0m \u001b[38;5;66;03m# Save the presentation\u001b[39;00m\n\u001b[0;32m     46\u001b[0m presentation\u001b[38;5;241m.\u001b[39mSaveAs(output_path)\n",
      "File \u001b[1;32m<COMObject <unknown>>:2\u001b[0m, in \u001b[0;36mSetSourceData\u001b[1;34m(self, Source, PlotBy)\u001b[0m\n",
      "\u001b[1;31mcom_error\u001b[0m: (-2147352567, 'Exception occurred.', (0, None, None, None, 0, -2147467259), None)"
     ]
    }
   ],
   "source": [
    "df = get_data()\n",
    "create_ppt_with_template(template_path = r\"D:\\\\ppt_automate\\\\template_path\\\\MorganStanley-SampleTemplate.pptx\",\n",
    "                         output_path=\"output_path/\", df=df)"
   ]
  },
  {
   "cell_type": "code",
   "execution_count": 21,
   "id": "a5a69e01-690e-445e-9ba9-e93e526da42f",
   "metadata": {},
   "outputs": [
    {
     "data": {
      "text/plain": [
       "'D:\\\\ppt_automate'"
      ]
     },
     "execution_count": 21,
     "metadata": {},
     "output_type": "execute_result"
    }
   ],
   "source": [
    "os.getcwd()"
   ]
  },
  {
   "cell_type": "code",
   "execution_count": null,
   "id": "d787f8ed-4fc1-4df0-aebc-b7bc279af918",
   "metadata": {},
   "outputs": [],
   "source": []
  },
  {
   "cell_type": "code",
   "execution_count": null,
   "id": "5fdc7d1c-ecb1-496f-8b6d-04cd95921581",
   "metadata": {},
   "outputs": [],
   "source": []
  },
  {
   "cell_type": "code",
   "execution_count": null,
   "id": "f1182bbc-7fcb-438d-9444-96cd61ba0d0b",
   "metadata": {},
   "outputs": [],
   "source": []
  },
  {
   "cell_type": "code",
   "execution_count": null,
   "id": "96d261fb-81b3-4267-9f66-fe49a792a7ce",
   "metadata": {},
   "outputs": [],
   "source": []
  },
  {
   "cell_type": "code",
   "execution_count": 5,
   "id": "4212ad0b-a0fc-4748-95f7-5a9083bd5778",
   "metadata": {},
   "outputs": [
    {
     "data": {
      "text/html": [
       "<div>\n",
       "<style scoped>\n",
       "    .dataframe tbody tr th:only-of-type {\n",
       "        vertical-align: middle;\n",
       "    }\n",
       "\n",
       "    .dataframe tbody tr th {\n",
       "        vertical-align: top;\n",
       "    }\n",
       "\n",
       "    .dataframe thead th {\n",
       "        text-align: right;\n",
       "    }\n",
       "</style>\n",
       "<table border=\"1\" class=\"dataframe\">\n",
       "  <thead>\n",
       "    <tr style=\"text-align: right;\">\n",
       "      <th></th>\n",
       "      <th>Month</th>\n",
       "      <th>Sales</th>\n",
       "    </tr>\n",
       "  </thead>\n",
       "  <tbody>\n",
       "    <tr>\n",
       "      <th>0</th>\n",
       "      <td>Jan</td>\n",
       "      <td>120</td>\n",
       "    </tr>\n",
       "    <tr>\n",
       "      <th>1</th>\n",
       "      <td>Feb</td>\n",
       "      <td>150</td>\n",
       "    </tr>\n",
       "    <tr>\n",
       "      <th>2</th>\n",
       "      <td>Mar</td>\n",
       "      <td>180</td>\n",
       "    </tr>\n",
       "    <tr>\n",
       "      <th>3</th>\n",
       "      <td>Apr</td>\n",
       "      <td>130</td>\n",
       "    </tr>\n",
       "    <tr>\n",
       "      <th>4</th>\n",
       "      <td>May</td>\n",
       "      <td>200</td>\n",
       "    </tr>\n",
       "  </tbody>\n",
       "</table>\n",
       "</div>"
      ],
      "text/plain": [
       "  Month  Sales\n",
       "0   Jan    120\n",
       "1   Feb    150\n",
       "2   Mar    180\n",
       "3   Apr    130\n",
       "4   May    200"
      ]
     },
     "execution_count": 5,
     "metadata": {},
     "output_type": "execute_result"
    }
   ],
   "source": [
    "get_data()"
   ]
  },
  {
   "cell_type": "code",
   "execution_count": null,
   "id": "031443d6-1106-4088-9e34-55fc0333d732",
   "metadata": {},
   "outputs": [],
   "source": []
  }
 ],
 "metadata": {
  "kernelspec": {
   "display_name": "Python [conda env:base] *",
   "language": "python",
   "name": "conda-base-py"
  },
  "language_info": {
   "codemirror_mode": {
    "name": "ipython",
    "version": 3
   },
   "file_extension": ".py",
   "mimetype": "text/x-python",
   "name": "python",
   "nbconvert_exporter": "python",
   "pygments_lexer": "ipython3",
   "version": "3.12.7"
  }
 },
 "nbformat": 4,
 "nbformat_minor": 5
}
